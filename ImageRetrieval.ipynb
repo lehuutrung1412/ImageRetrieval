{
  "cells": [
    {
      "cell_type": "markdown",
      "metadata": {
        "id": "8aruFdfdfnpq"
      },
      "source": [
        "# Content-based image retrieval system"
      ]
    },
    {
      "cell_type": "code",
      "execution_count": null,
      "metadata": {
        "id": "dBSD2m9ggJFQ"
      },
      "outputs": [],
      "source": [
        "!git clone https://github.com/lehuutrung1412/ImageRetrieval.git"
      ]
    },
    {
      "cell_type": "code",
      "execution_count": null,
      "metadata": {
        "colab": {
          "base_uri": "https://localhost:8080/"
        },
        "id": "N0t-07pDVVKt",
        "outputId": "222085ae-80d4-4611-ece4-fa3b5dff52b3"
      },
      "outputs": [],
      "source": [
        "# Download dataset\n",
        "!gdown --id 1zwBkyIj9otiRoNywq2cztyjKx0LmRacl"
      ]
    },
    {
      "cell_type": "code",
      "execution_count": null,
      "metadata": {
        "id": "tpmU4iw1VnRP"
      },
      "outputs": [],
      "source": [
        "!unzip '/content/paris.zip' -d '/content/ImageRetrieval/app/static/data/'"
      ]
    },
    {
      "cell_type": "code",
      "execution_count": null,
      "metadata": {
        "id": "EEIj8lhGgpic"
      },
      "outputs": [],
      "source": [
        "%cd /content/ImageRetrieval/\n",
        "!pip install -r requirements.txt\n",
        "!pip install lshashpy3\n",
        "%cd ./app"
      ]
    },
    {
      "cell_type": "code",
      "execution_count": null,
      "metadata": {
        "id": "2QehSX9lhCJM"
      },
      "outputs": [],
      "source": [
        "!python app.py --large faiss"
      ]
    }
  ],
  "metadata": {
    "colab": {
      "collapsed_sections": [],
      "name": "Image_Retrieval.ipynb",
      "provenance": []
    },
    "kernelspec": {
      "display_name": "Python 3",
      "name": "python3"
    },
    "language_info": {
      "name": "python"
    }
  },
  "nbformat": 4,
  "nbformat_minor": 0
}
